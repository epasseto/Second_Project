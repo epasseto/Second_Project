{
 "cells": [
  {
   "cell_type": "markdown",
   "metadata": {},
   "source": [
    "# ML Pipeline Testing\n",
    "\n",
    "This is the test part of Machine Learning Pipeline\n",
    "\n",
    ">- import libraries\n",
    ">- read data from a SQLite table named `sqlite:///Messages.db`"
   ]
  },
  {
   "cell_type": "code",
   "execution_count": 1,
   "metadata": {},
   "outputs": [],
   "source": [
    "#import libraries\n",
    "from time import time\n",
    "import math\n",
    "import numpy as np\n",
    "import pandas as pd\n",
    "import pprint as pp\n",
    "import pickle\n",
    "\n",
    "import udacourse2 #my library for this project\n",
    "import train as tr #my pipeline"
   ]
  },
  {
   "cell_type": "markdown",
   "metadata": {},
   "source": [
    "### 1. Test `load_data`"
   ]
  },
  {
   "cell_type": "code",
   "execution_count": 2,
   "metadata": {},
   "outputs": [
    {
     "name": "stdout",
     "output_type": "stream",
     "text": [
      "###load_data function started\n",
      "existing tables in my SQLite database: ['Messages']\n",
      "all labels are blank in 6317 rows\n",
      "remaining rows: 19928\n",
      "removal complete!\n",
      "OK\n",
      "found 6 rows with no tokens\n",
      "*after removal, found 0 rows with no tokens\n",
      "now I have 19922 rows to train\n",
      "###function group_check started\n",
      "  - count for main class:aid_related, 10877 entries\n",
      "  - for main, without any sub-categories,  3515 entries\n",
      "  - for subcategories,  7388 entries\n",
      "  - for lost parent sub-categories,  26 entries\n",
      "    *correcting, new count: 0 entries\n",
      "elapsed time: 0.0792s\n",
      "###function group_check started\n",
      "  - count for main class:weather_related, 7304 entries\n",
      "  - for main, without any sub-categories,  1359 entries\n",
      "  - for subcategories,  5945 entries\n",
      "  - for lost parent sub-categories,  0 entries\n",
      "    *correcting, new count: 0 entries\n",
      "elapsed time: 0.0357s\n",
      "###function group_check started\n",
      "  - count for main class:infrastructure_related, 1705 entries\n",
      "  - for main, without any sub-categories,  679 entries\n",
      "  - for subcategories,  2926 entries\n",
      "  - for lost parent sub-categories,  1900 entries\n",
      "    *correcting, new count: 0 entries\n",
      "elapsed time: 0.0339s\n",
      "###function group_check started\n",
      "  - count for main class:related, 19922 entries\n",
      "  - for main, without any sub-categories,  9436 entries\n",
      "  - for subcategories,  10486 entries\n",
      "  - for lost parent sub-categories,  0 entries\n",
      "    *correcting, new count: 0 entries\n",
      "elapsed time: 0.0424s\n",
      "*child_alone -> only zeroes training column!\n",
      "['child_alone']\n",
      "*dataset breaked into X-Training Text Column and Y-Multilabels\n",
      "process time:24 seconds\n"
     ]
    }
   ],
   "source": [
    "data_file = 'sqlite:///Messages.db'\n",
    "\n",
    "X, y = tr.load_data(data_file=data_file,\n",
    "                    verbose=True)"
   ]
  },
  {
   "cell_type": "code",
   "execution_count": 3,
   "metadata": {},
   "outputs": [
    {
     "data": {
      "text/plain": [
       "0    [weather, update, cold, front, cuba, pass, haiti]\n",
       "1                                          [hurricane]\n",
       "2                                      [looking, name]\n",
       "3    [reports, leogane, destroyed, hospital, croix,...\n",
       "Name: tokenized, dtype: object"
      ]
     },
     "execution_count": 3,
     "metadata": {},
     "output_type": "execute_result"
    }
   ],
   "source": [
    "X.head(4)"
   ]
  },
  {
   "cell_type": "code",
   "execution_count": 4,
   "metadata": {},
   "outputs": [
    {
     "data": {
      "text/html": [
       "<div>\n",
       "<style scoped>\n",
       "    .dataframe tbody tr th:only-of-type {\n",
       "        vertical-align: middle;\n",
       "    }\n",
       "\n",
       "    .dataframe tbody tr th {\n",
       "        vertical-align: top;\n",
       "    }\n",
       "\n",
       "    .dataframe thead th {\n",
       "        text-align: right;\n",
       "    }\n",
       "</style>\n",
       "<table border=\"1\" class=\"dataframe\">\n",
       "  <thead>\n",
       "    <tr style=\"text-align: right;\">\n",
       "      <th></th>\n",
       "      <th>request</th>\n",
       "      <th>offer</th>\n",
       "      <th>aid_related</th>\n",
       "      <th>medical_help</th>\n",
       "      <th>medical_products</th>\n",
       "      <th>search_and_rescue</th>\n",
       "      <th>security</th>\n",
       "      <th>military</th>\n",
       "      <th>water</th>\n",
       "      <th>food</th>\n",
       "      <th>...</th>\n",
       "      <th>aid_centers</th>\n",
       "      <th>other_infrastructure</th>\n",
       "      <th>weather_related</th>\n",
       "      <th>floods</th>\n",
       "      <th>storm</th>\n",
       "      <th>fire</th>\n",
       "      <th>earthquake</th>\n",
       "      <th>cold</th>\n",
       "      <th>other_weather</th>\n",
       "      <th>direct_report</th>\n",
       "    </tr>\n",
       "  </thead>\n",
       "  <tbody>\n",
       "    <tr>\n",
       "      <th>0</th>\n",
       "      <td>0</td>\n",
       "      <td>0</td>\n",
       "      <td>0</td>\n",
       "      <td>0</td>\n",
       "      <td>0</td>\n",
       "      <td>0</td>\n",
       "      <td>0</td>\n",
       "      <td>0</td>\n",
       "      <td>0</td>\n",
       "      <td>0</td>\n",
       "      <td>...</td>\n",
       "      <td>0</td>\n",
       "      <td>0</td>\n",
       "      <td>0</td>\n",
       "      <td>0</td>\n",
       "      <td>0</td>\n",
       "      <td>0</td>\n",
       "      <td>0</td>\n",
       "      <td>0</td>\n",
       "      <td>0</td>\n",
       "      <td>0</td>\n",
       "    </tr>\n",
       "    <tr>\n",
       "      <th>1</th>\n",
       "      <td>0</td>\n",
       "      <td>0</td>\n",
       "      <td>1</td>\n",
       "      <td>0</td>\n",
       "      <td>0</td>\n",
       "      <td>0</td>\n",
       "      <td>0</td>\n",
       "      <td>0</td>\n",
       "      <td>0</td>\n",
       "      <td>0</td>\n",
       "      <td>...</td>\n",
       "      <td>0</td>\n",
       "      <td>0</td>\n",
       "      <td>1</td>\n",
       "      <td>0</td>\n",
       "      <td>1</td>\n",
       "      <td>0</td>\n",
       "      <td>0</td>\n",
       "      <td>0</td>\n",
       "      <td>0</td>\n",
       "      <td>0</td>\n",
       "    </tr>\n",
       "    <tr>\n",
       "      <th>2</th>\n",
       "      <td>0</td>\n",
       "      <td>0</td>\n",
       "      <td>0</td>\n",
       "      <td>0</td>\n",
       "      <td>0</td>\n",
       "      <td>0</td>\n",
       "      <td>0</td>\n",
       "      <td>0</td>\n",
       "      <td>0</td>\n",
       "      <td>0</td>\n",
       "      <td>...</td>\n",
       "      <td>0</td>\n",
       "      <td>0</td>\n",
       "      <td>0</td>\n",
       "      <td>0</td>\n",
       "      <td>0</td>\n",
       "      <td>0</td>\n",
       "      <td>0</td>\n",
       "      <td>0</td>\n",
       "      <td>0</td>\n",
       "      <td>0</td>\n",
       "    </tr>\n",
       "    <tr>\n",
       "      <th>3</th>\n",
       "      <td>1</td>\n",
       "      <td>0</td>\n",
       "      <td>1</td>\n",
       "      <td>0</td>\n",
       "      <td>1</td>\n",
       "      <td>0</td>\n",
       "      <td>0</td>\n",
       "      <td>0</td>\n",
       "      <td>0</td>\n",
       "      <td>0</td>\n",
       "      <td>...</td>\n",
       "      <td>0</td>\n",
       "      <td>0</td>\n",
       "      <td>0</td>\n",
       "      <td>0</td>\n",
       "      <td>0</td>\n",
       "      <td>0</td>\n",
       "      <td>0</td>\n",
       "      <td>0</td>\n",
       "      <td>0</td>\n",
       "      <td>0</td>\n",
       "    </tr>\n",
       "  </tbody>\n",
       "</table>\n",
       "<p>4 rows × 34 columns</p>\n",
       "</div>"
      ],
      "text/plain": [
       "   request  offer  aid_related  medical_help  medical_products  \\\n",
       "0        0      0            0             0                 0   \n",
       "1        0      0            1             0                 0   \n",
       "2        0      0            0             0                 0   \n",
       "3        1      0            1             0                 1   \n",
       "\n",
       "   search_and_rescue  security  military  water  food  ...  aid_centers  \\\n",
       "0                  0         0         0      0     0  ...            0   \n",
       "1                  0         0         0      0     0  ...            0   \n",
       "2                  0         0         0      0     0  ...            0   \n",
       "3                  0         0         0      0     0  ...            0   \n",
       "\n",
       "   other_infrastructure  weather_related  floods  storm  fire  earthquake  \\\n",
       "0                     0                0       0      0     0           0   \n",
       "1                     0                1       0      1     0           0   \n",
       "2                     0                0       0      0     0           0   \n",
       "3                     0                0       0      0     0           0   \n",
       "\n",
       "   cold  other_weather  direct_report  \n",
       "0     0              0              0  \n",
       "1     0              0              0  \n",
       "2     0              0              0  \n",
       "3     0              0              0  \n",
       "\n",
       "[4 rows x 34 columns]"
      ]
     },
     "execution_count": 4,
     "metadata": {},
     "output_type": "execute_result"
    }
   ],
   "source": [
    "y.head(4)"
   ]
  },
  {
   "cell_type": "markdown",
   "metadata": {},
   "source": [
    "### 2. Test `build_model` function"
   ]
  },
  {
   "cell_type": "code",
   "execution_count": 5,
   "metadata": {},
   "outputs": [
    {
     "name": "stdout",
     "output_type": "stream",
     "text": [
      "###build_model function started\n",
      "*Linear Support Vector Machine pipeline was created\n",
      "process time:0 seconds\n"
     ]
    }
   ],
   "source": [
    "model_pipeline = tr.build_model(verbose=True)"
   ]
  },
  {
   "cell_type": "code",
   "execution_count": 6,
   "metadata": {},
   "outputs": [
    {
     "data": {
      "text/plain": [
       "Pipeline(steps=[('vect',\n",
       "                 TfidfVectorizer(ngram_range=(1, 3),\n",
       "                                 preprocessor=<function dummy at 0x000002F081456678>,\n",
       "                                 token_pattern=None,\n",
       "                                 tokenizer=<function dummy at 0x000002F081456678>)),\n",
       "                ('clf',\n",
       "                 OneVsRestClassifier(estimator=LinearSVC(C=2.0,\n",
       "                                                         random_state=42)))])"
      ]
     },
     "execution_count": 6,
     "metadata": {},
     "output_type": "execute_result"
    }
   ],
   "source": [
    "model_pipeline"
   ]
  },
  {
   "cell_type": "markdown",
   "metadata": {},
   "source": [
    "### 3. Test `train` function"
   ]
  },
  {
   "cell_type": "code",
   "execution_count": 7,
   "metadata": {},
   "outputs": [
    {
     "name": "stdout",
     "output_type": "stream",
     "text": [
      "###train function started\n",
      "data split into train and text seems OK\n",
      "###function scores_report started\n",
      "using top 10 labels\n",
      "######################################################\n",
      "*aid_related -> label iloc[2]\n",
      "              precision    recall  f1-score   support\n",
      "\n",
      "           0       0.75      0.56      0.64      2313\n",
      "           1       0.69      0.84      0.76      2668\n",
      "\n",
      "    accuracy                           0.71      4981\n",
      "   macro avg       0.72      0.70      0.70      4981\n",
      "weighted avg       0.72      0.71      0.70      4981\n",
      "\n",
      "######################################################\n",
      "*weather_related -> label iloc[26]\n",
      "              precision    recall  f1-score   support\n",
      "\n",
      "           0       0.88      0.88      0.88      3109\n",
      "           1       0.80      0.79      0.80      1872\n",
      "\n",
      "    accuracy                           0.85      4981\n",
      "   macro avg       0.84      0.84      0.84      4981\n",
      "weighted avg       0.85      0.85      0.85      4981\n",
      "\n",
      "######################################################\n",
      "*direct_report -> label iloc[33]\n",
      "              precision    recall  f1-score   support\n",
      "\n",
      "           0       0.87      0.88      0.87      3726\n",
      "           1       0.63      0.62      0.62      1255\n",
      "\n",
      "    accuracy                           0.81      4981\n",
      "   macro avg       0.75      0.75      0.75      4981\n",
      "weighted avg       0.81      0.81      0.81      4981\n",
      "\n",
      "######################################################\n",
      "*request -> label iloc[0]\n",
      "              precision    recall  f1-score   support\n",
      "\n",
      "           0       0.92      0.92      0.92      3884\n",
      "           1       0.71      0.71      0.71      1097\n",
      "\n",
      "    accuracy                           0.87      4981\n",
      "   macro avg       0.81      0.81      0.81      4981\n",
      "weighted avg       0.87      0.87      0.87      4981\n",
      "\n",
      "######################################################\n",
      "*other_aid -> label iloc[16]\n",
      "              precision    recall  f1-score   support\n",
      "\n",
      "           0       0.88      0.91      0.90      4163\n",
      "           1       0.45      0.36      0.40       818\n",
      "\n",
      "    accuracy                           0.82      4981\n",
      "   macro avg       0.66      0.64      0.65      4981\n",
      "weighted avg       0.81      0.82      0.81      4981\n",
      "\n",
      "######################################################\n",
      "*food -> label iloc[9]\n",
      "              precision    recall  f1-score   support\n",
      "\n",
      "           0       0.97      0.96      0.96      4266\n",
      "           1       0.78      0.81      0.79       715\n",
      "\n",
      "    accuracy                           0.94      4981\n",
      "   macro avg       0.88      0.88      0.88      4981\n",
      "weighted avg       0.94      0.94      0.94      4981\n",
      "\n",
      "######################################################\n",
      "*earthquake -> label iloc[30]\n",
      "              precision    recall  f1-score   support\n",
      "\n",
      "           0       0.97      0.98      0.98      4384\n",
      "           1       0.86      0.78      0.82       597\n",
      "\n",
      "    accuracy                           0.96      4981\n",
      "   macro avg       0.92      0.88      0.90      4981\n",
      "weighted avg       0.96      0.96      0.96      4981\n",
      "\n",
      "######################################################\n",
      "*storm -> label iloc[28]\n",
      "              precision    recall  f1-score   support\n",
      "\n",
      "           0       0.96      0.96      0.96      4371\n",
      "           1       0.73      0.72      0.72       610\n",
      "\n",
      "    accuracy                           0.93      4981\n",
      "   macro avg       0.84      0.84      0.84      4981\n",
      "weighted avg       0.93      0.93      0.93      4981\n",
      "\n",
      "######################################################\n",
      "*shelter -> label iloc[10]\n",
      "              precision    recall  f1-score   support\n",
      "\n",
      "           0       0.96      0.97      0.96      4410\n",
      "           1       0.73      0.69      0.71       571\n",
      "\n",
      "    accuracy                           0.94      4981\n",
      "   macro avg       0.85      0.83      0.84      4981\n",
      "weighted avg       0.93      0.94      0.93      4981\n",
      "\n",
      "######################################################\n",
      "*floods -> label iloc[27]\n",
      "              precision    recall  f1-score   support\n",
      "\n",
      "           0       0.96      0.98      0.97      4412\n",
      "           1       0.81      0.65      0.72       569\n",
      "\n",
      "    accuracy                           0.94      4981\n",
      "   macro avg       0.88      0.81      0.84      4981\n",
      "weighted avg       0.94      0.94      0.94      4981\n",
      "\n",
      "###Model metrics for 10 labels:\n",
      " Accuracy: 0.705 (70.5%)\n",
      " Precision: 0.719 (71.9%)\n",
      " Recall: 0.697 (69.7%)\n",
      "\n",
      "###Worst metrics:\n",
      " Accuracy: 0.398 (39.8%) for other_aid\n",
      " Precision: 0.447 (44.7%) for other_aid\n",
      " Recall: 0.358 (35.8%) for other_aid\n",
      "process time:0.2605 seconds\n",
      "*classifier was trained!\n",
      "process time:16 seconds\n"
     ]
    }
   ],
   "source": [
    "model = tr.train(X=X,\n",
    "                 y=y,\n",
    "                 model=model_pipeline,\n",
    "                 verbose=True)"
   ]
  },
  {
   "cell_type": "markdown",
   "metadata": {},
   "source": [
    "### 4. Test `export_model` function"
   ]
  },
  {
   "cell_type": "code",
   "execution_count": 8,
   "metadata": {},
   "outputs": [
    {
     "name": "stdout",
     "output_type": "stream",
     "text": [
      "###export_model function started\n",
      "*trained Classifier was exported\n",
      "process time:0 seconds\n"
     ]
    },
    {
     "data": {
      "text/plain": [
       "True"
      ]
     },
     "execution_count": 8,
     "metadata": {},
     "output_type": "execute_result"
    }
   ],
   "source": [
    "file_name = 'classifier.pkl'\n",
    "\n",
    "tr.export_model(model=model,\n",
    "                file_name=file_name,\n",
    "                verbose=True)"
   ]
  },
  {
   "cell_type": "code",
   "execution_count": 9,
   "metadata": {},
   "outputs": [
    {
     "data": {
      "text/plain": [
       "Pipeline(steps=[('vect',\n",
       "                 TfidfVectorizer(ngram_range=(1, 3),\n",
       "                                 preprocessor=<function dummy at 0x000002F081456678>,\n",
       "                                 token_pattern=None,\n",
       "                                 tokenizer=<function dummy at 0x000002F081456678>)),\n",
       "                ('clf',\n",
       "                 OneVsRestClassifier(estimator=LinearSVC(C=2.0,\n",
       "                                                         random_state=42)))])"
      ]
     },
     "execution_count": 9,
     "metadata": {},
     "output_type": "execute_result"
    }
   ],
   "source": [
    "with open('classifier.pkl', 'rb') as pk_reader:\n",
    "    model_unpk = pickle.load(pk_reader)\n",
    "    \n",
    "model_unpk"
   ]
  },
  {
   "cell_type": "markdown",
   "metadata": {},
   "source": [
    "### 5. Test `run_pipeline` function"
   ]
  },
  {
   "cell_type": "code",
   "execution_count": 10,
   "metadata": {},
   "outputs": [
    {
     "name": "stdout",
     "output_type": "stream",
     "text": [
      "process time: 38 seconds\n"
     ]
    }
   ],
   "source": [
    "data_file = 'sqlite:///Messages.db'\n",
    "start = time()\n",
    "\n",
    "tr.run_pipeline(data_file=data_file, verbose=False)\n",
    "\n",
    "spent = time() - start\n",
    "print('process time: {:.0f} seconds'.format(spent))"
   ]
  },
  {
   "cell_type": "markdown",
   "metadata": {},
   "source": [
    "### 6.`Main` function calling "
   ]
  },
  {
   "cell_type": "code",
   "execution_count": 11,
   "metadata": {},
   "outputs": [
    {
     "name": "stdout",
     "output_type": "stream",
     "text": [
      "This is the main Machine Learning Pipeline function. It calls the other \n",
      "    ones, in the correct order.\n",
      "    Imputs:\n",
      "      - verbose (optional) - if you want some verbosity during the running \n",
      "        (default=False)\n",
      "    \n"
     ]
    }
   ],
   "source": [
    "print(eval(pp.pformat(tr.main.__doc__)))"
   ]
  },
  {
   "cell_type": "code",
   "execution_count": 12,
   "metadata": {},
   "outputs": [],
   "source": [
    "tr.main()"
   ]
  }
 ],
 "metadata": {
  "kernelspec": {
   "display_name": "Python 3",
   "language": "python",
   "name": "python3"
  },
  "language_info": {
   "codemirror_mode": {
    "name": "ipython",
    "version": 3
   },
   "file_extension": ".py",
   "mimetype": "text/x-python",
   "name": "python",
   "nbconvert_exporter": "python",
   "pygments_lexer": "ipython3",
   "version": "3.7.10"
  }
 },
 "nbformat": 4,
 "nbformat_minor": 2
}
